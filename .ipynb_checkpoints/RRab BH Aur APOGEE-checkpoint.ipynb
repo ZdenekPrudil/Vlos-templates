{
 "cells": [
  {
   "cell_type": "code",
   "execution_count": 1,
   "id": "43e7caee",
   "metadata": {
    "ExecuteTime": {
     "end_time": "2024-07-31T19:28:23.799382Z",
     "start_time": "2024-07-31T19:28:22.145849Z"
    }
   },
   "outputs": [],
   "source": [
    "from scipy.optimize import minimize\n",
    "from joblib import Parallel, delayed, parallel_backend\n",
    "from multiprocessing import cpu_count, Pool\n",
    "from numpy.linalg import inv, det\n",
    "from astropy.io import ascii\n",
    "from scipy.optimize import minimize, rosen, rosen_der\n",
    "from scipy import interpolate\n",
    "from scipy.optimize import minimize\n",
    "\n",
    "import numpy as np\n",
    "import matplotlib.pyplot as plt\n",
    "import emcee\n",
    "import multiprocessing\n",
    "import corner\n",
    "\n",
    "plt.rcParams['savefig.facecolor'] = 'white'\n",
    "multiprocessing.set_start_method('fork')"
   ]
  },
  {
   "cell_type": "code",
   "execution_count": 2,
   "id": "3d9e3d53",
   "metadata": {
    "ExecuteTime": {
     "end_time": "2024-07-31T19:28:23.804829Z",
     "start_time": "2024-07-31T19:28:23.800914Z"
    }
   },
   "outputs": [],
   "source": [
    "# Fourier function, Eq. 7 in the paper\n",
    "def function_fourier_fit(a, t):\n",
    "    \n",
    "    ret = a[0] + a[1]*np.sin(2*np.pi*(t)) + a[2]*np.cos(2*np.pi*(t))\n",
    "    i = 0\n",
    "\n",
    "    for deg in range(3, len(a),2):\n",
    "        i+=1\n",
    "        ret += a[deg]*np.sin(2*(i+1)*np.pi*(t)) + a[deg+1]*np.cos(2*(i+1)*np.pi*(t))\n",
    "\n",
    "    return ret\n",
    "\n",
    "\n",
    "# Log-normal distribution\n",
    "def ln_normal(dy, std):\n",
    "    return -0.5 * (dy)**2 / std**2 - 0.5*np.log(2*np.pi) - np.log(std)"
   ]
  },
  {
   "cell_type": "markdown",
   "id": "e176fa1e",
   "metadata": {},
   "source": [
    "# BH-Aur     --- RRab type"
   ]
  },
  {
   "cell_type": "code",
   "execution_count": 3,
   "id": "1294d6d4",
   "metadata": {
    "ExecuteTime": {
     "end_time": "2024-07-31T19:28:23.808858Z",
     "start_time": "2024-07-31T19:28:23.806299Z"
    }
   },
   "outputs": [],
   "source": [
    "name_star = \"RRab\"\n",
    "\n",
    "# Spectroscopic data obtained from the analysis of APOGEE subvisits\n",
    "line_of_sight_velocity = np.array([53.4151, 55.2590, 57.1008, 62.2640]) # corr for Heliocentric vel.\n",
    "uncertainty_line_of_sight_velocity = np.array([0.338297, 0.504453, 1.723845, 3.625235])      \n",
    "time_of_observations = np.array([2457428.816665, 2457428.828389, 2457428.8401, 2457428.851875]) # HJD\n",
    "\n",
    "\n",
    "# Photometric information on BH Aur\n",
    "amplitude_Gband             = 0.805501 # mag\n",
    "uncertainty_amplitude_Gband = 0.029144509 # mag\n",
    "pulsation_period            = 0.4560898 # day\n",
    "time_of_brighness_maxima    = 2455197.5+1710.2783865285412 # day\n",
    "\n",
    "\n",
    "#line_of_sight_velocity = np.array([-69.152, -61.657]) # corr for Heliocentric vel.\n",
    "#uncertainty_line_of_sight_velocity = np.array([2.273, 1.511])      \n",
    "#time_of_observations = np.array([2458059.4987222, 2458626.8885229]) # HJD\n",
    "\n",
    "# 'Ground truth' from Gaia data\n",
    "gaia_vsys, error_gaia_vsys = 51.393063, 1.4457822"
   ]
  },
  {
   "cell_type": "markdown",
   "id": "b13e2920",
   "metadata": {},
   "source": [
    "## Amplitude scaling relation"
   ]
  },
  {
   "cell_type": "code",
   "execution_count": 4,
   "id": "b3e4f3f7",
   "metadata": {
    "ExecuteTime": {
     "end_time": "2024-07-31T19:28:23.812454Z",
     "start_time": "2024-07-31T19:28:23.810504Z"
    }
   },
   "outputs": [],
   "source": [
    "# Equation 5 in the paper\n",
    "scaling_relation = np.array([-64., 127])  \n",
    "\n",
    "# Equation 7 in the paper\n",
    "covariance_matrix_scaling_relation_RRab = np.array([[120. , -98.], \n",
    "                                                    [-98. ,  81.]])"
   ]
  },
  {
   "cell_type": "markdown",
   "id": "1d63e091",
   "metadata": {
    "ExecuteTime": {
     "end_time": "2023-02-28T10:00:07.151343Z",
     "start_time": "2023-02-28T10:00:07.078144Z"
    },
    "code_folding": []
   },
   "source": [
    "## Template and scatter in template"
   ]
  },
  {
   "cell_type": "code",
   "execution_count": 5,
   "id": "cf336487",
   "metadata": {
    "ExecuteTime": {
     "end_time": "2024-07-31T19:28:24.217799Z",
     "start_time": "2024-07-31T19:28:24.204563Z"
    }
   },
   "outputs": [],
   "source": [
    "# Table 2, first row in the paper\n",
    "template_fourier = np.array([0.0000, -0.2667, -0.2806, \n",
    "                             -0.0351, -0.1358, 0.0222, \n",
    "                             -0.0884, 0.0455, -0.0300, \n",
    "                             0.0192, -0.0016]) \n",
    "\n",
    "# Table B3\n",
    "err_apo = np.array([[0.000, 0.054, 0.083],\n",
    "                    [0.025, 0.054, 0.083],\n",
    "                    [0.075, 0.059, 0.087],\n",
    "                    [0.125, 0.064, 0.115],\n",
    "                    [0.175, 0.028, 0.081],\n",
    "                    [0.225, 0.064, 0.068],\n",
    "                    [0.275, 0.056, 0.074],\n",
    "                    [0.325, 0.040, 0.069],\n",
    "                    [0.375, 0.033, 0.080],\n",
    "                    [0.425, 0.044, 0.108],\n",
    "                    [0.475, 0.073, 0.127],\n",
    "                    [0.525, 0.046, 0.101],\n",
    "                    [0.575, 0.049, 0.078],\n",
    "                    [0.625, 0.069, 0.117],\n",
    "                    [0.675, 0.051, 0.120],\n",
    "                    [0.725, 0.066, 0.092],\n",
    "                    [0.775, 0.057, 0.149],\n",
    "                    [0.825, 0.050, 0.391],\n",
    "                    [0.875, 0.159, 0.220],\n",
    "                    [0.925, 0.186, 0.215],\n",
    "                    [0.975, 0.070, 0.109],\n",
    "                    [1.000, 0.070, 0.109]])\n",
    "# Table B3, first column in the paper\n",
    "phase_for_scatter_in_template = err_apo[:,0]  \n",
    "\n",
    "# Table B3, second column in the paper\n",
    "scatter_in_template = err_apo[:,1]           \n",
    "\n",
    "# Spline function that interpolates the discrete scatter along the pulsation phase\n",
    "f_spline_err = interpolate.interp1d(phase_for_scatter_in_template, \n",
    "                                    scatter_in_template, \n",
    "                                    kind='linear')"
   ]
  },
  {
   "cell_type": "code",
   "execution_count": null,
   "id": "e075a422",
   "metadata": {
    "ExecuteTime": {
     "end_time": "2023-03-21T14:35:32.106221Z",
     "start_time": "2023-03-21T14:35:32.086698Z"
    }
   },
   "outputs": [],
   "source": []
  },
  {
   "cell_type": "code",
   "execution_count": 6,
   "id": "005a99ca",
   "metadata": {
    "ExecuteTime": {
     "end_time": "2024-07-31T19:28:24.941622Z",
     "start_time": "2024-07-31T19:28:24.929956Z"
    }
   },
   "outputs": [
    {
     "name": "stdout",
     "output_type": "stream",
     "text": [
      "Predicted amplitude of the line of sight velocity and its error is: 60.8 ± 2.3 kms-1\n"
     ]
    }
   ],
   "source": [
    "vector = np.array([amplitude_Gband**2, amplitude_Gband])\n",
    "derivative_vector = np.array([amplitude_Gband, 1.0])\n",
    "        \n",
    "Amp_line_of_sight_vel = scaling_relation @ vector \n",
    "uncertainty_Amp_line_of_sight_vel = np.sqrt(vector @ covariance_matrix_scaling_relation_RRab @ vector.T \n",
    "                                                    + ((scaling_relation @ derivative_vector)**2)*(uncertainty_amplitude_Gband**2))                                          \n",
    "\n",
    "print(r\"Predicted amplitude of the line of sight velocity and its error is: %.1f ± %.1f kms-1\" %(Amp_line_of_sight_vel, \n",
    "                                                                                                 uncertainty_Amp_line_of_sight_vel))"
   ]
  },
  {
   "cell_type": "code",
   "execution_count": null,
   "id": "70762693",
   "metadata": {
    "ExecuteTime": {
     "end_time": "2023-03-21T14:36:02.662733Z",
     "start_time": "2023-03-21T14:36:02.648295Z"
    }
   },
   "outputs": [],
   "source": []
  },
  {
   "cell_type": "markdown",
   "id": "bf7653bf",
   "metadata": {
    "ExecuteTime": {
     "end_time": "2023-03-08T08:55:44.873852Z",
     "start_time": "2023-03-08T08:55:44.852821Z"
    }
   },
   "source": [
    "### Systemic velocity estimation"
   ]
  },
  {
   "cell_type": "code",
   "execution_count": 7,
   "id": "a004a165",
   "metadata": {
    "ExecuteTime": {
     "end_time": "2024-07-31T19:28:26.606449Z",
     "start_time": "2024-07-31T19:28:26.595627Z"
    }
   },
   "outputs": [],
   "source": [
    "def systematic_velocity_determ(param, HJD, measured_velocity, uncertainty_measured_velocity, P, M0, Alos, eAlos):\n",
    "    \n",
    "    vsys = param\n",
    "\n",
    "    # Equation 21 in paper\n",
    "    phase_star = np.mod(HJD - M0, P) / P\n",
    "    \n",
    "    # Equation 19 in paper\n",
    "    model_velocity = function_fourier_fit(template_fourier, phase_star)*Alos + vsys\n",
    "\n",
    "    # Equation 20 in paper\n",
    "    evel_fin = np.sqrt(uncertainty_measured_velocity**2 \n",
    "                       + (f_spline_err(phase_star)*Alos)**2 \n",
    "                       + (function_fourier_fit(template_fourier,phase_star)*eAlos)**2 )\n",
    "\n",
    "    # Equation 18 in paper\n",
    "    result = ln_normal(measured_velocity - model_velocity, evel_fin) \n",
    "\n",
    "    \n",
    "    return np.nansum(result[np.isfinite(result)])\n",
    "\n",
    "\n",
    "# Possibility for including some priors\n",
    "def prior(param):\n",
    "    # pick a prior\n",
    "    return 0.\n",
    "\n",
    "#    \n",
    "def LOG_probability(param, HJD, measured_velocity, uncertainty_measured_velocity, P, M0, Alos, eAlos):\n",
    "    \n",
    "    lp = prior(param)\n",
    "    \n",
    "    rety = systematic_velocity_determ(param, HJD, measured_velocity, \n",
    "                                      uncertainty_measured_velocity, \n",
    "                                      P, M0, Alos, eAlos) \n",
    "\n",
    "    return lp + rety\n",
    "\n",
    "\n",
    "def LOG_minus(param, HJD, measured_velocity, uncertainty_measured_velocity, P, M0, Alos, eAlos):\n",
    "    return -LOG_probability(param, HJD, measured_velocity, uncertainty_measured_velocity, P, M0, Alos, eAlos)"
   ]
  },
  {
   "cell_type": "code",
   "execution_count": null,
   "id": "be3ecf5b",
   "metadata": {
    "ExecuteTime": {
     "end_time": "2023-03-21T14:36:19.400595Z",
     "start_time": "2023-03-21T14:36:19.386298Z"
    }
   },
   "outputs": [],
   "source": []
  },
  {
   "cell_type": "markdown",
   "id": "b0517cf3",
   "metadata": {},
   "source": [
    "# --- Scipy way ---"
   ]
  },
  {
   "cell_type": "code",
   "execution_count": 8,
   "id": "740e5df1",
   "metadata": {
    "ExecuteTime": {
     "end_time": "2024-07-31T19:28:27.861469Z",
     "start_time": "2024-07-31T19:28:27.846760Z"
    }
   },
   "outputs": [
    {
     "name": "stdout",
     "output_type": "stream",
     "text": [
      "Determined systemic velocity and its uncertainty is: 49.7 ± 1.6 kms-1\n"
     ]
    }
   ],
   "source": [
    "p0 = np.array([-11.])\n",
    "\n",
    "res = minimize(LOG_minus, x0=p0, args=(time_of_observations, \n",
    "                                      line_of_sight_velocity, \n",
    "                                      uncertainty_line_of_sight_velocity, \n",
    "                                      pulsation_period, \n",
    "                                      time_of_brighness_maxima, \n",
    "                                      Amp_line_of_sight_vel, \n",
    "                                      uncertainty_Amp_line_of_sight_vel), method='BFGS') #SLSQP\n",
    "\n",
    "\n",
    "print(\"Determined systemic velocity and its uncertainty is: %.1f ± %.1f kms-1\" %(res.x[0], np.sqrt(np.diag(res.hess_inv))[0]))"
   ]
  },
  {
   "cell_type": "code",
   "execution_count": 9,
   "id": "f15d7f54",
   "metadata": {
    "ExecuteTime": {
     "end_time": "2024-07-31T19:29:52.346375Z",
     "start_time": "2024-07-31T19:28:29.292235Z"
    }
   },
   "outputs": [
    {
     "name": "stderr",
     "output_type": "stream",
     "text": [
      "100%|██████████████████████████████████████| 1000/1000 [00:04<00:00, 245.33it/s]\n",
      "100%|████████████████████████████████████| 20000/20000 [01:18<00:00, 253.51it/s]\n"
     ]
    }
   ],
   "source": [
    "nwalkers, ndim = 100, len(res.x)\n",
    "    \n",
    "pos = np.random.multivariate_normal(res.x, res.hess_inv, nwalkers)\n",
    "\n",
    "with Pool() as pool:\n",
    "    sampler = emcee.EnsembleSampler(nwalkers, ndim, LOG_probability,\n",
    "                                         args=(time_of_observations, line_of_sight_velocity, \n",
    "                                               uncertainty_line_of_sight_velocity, pulsation_period, \n",
    "                                               time_of_brighness_maxima, Amp_line_of_sight_vel, \n",
    "                                               uncertainty_Amp_line_of_sight_vel),\n",
    "                                         pool=pool) # , backend=backend\n",
    "        \n",
    "    state = sampler.run_mcmc(pos, 1000, progress=True)\n",
    "    sampler.reset()\n",
    "    sampler.run_mcmc(state, 20000, progress=True);"
   ]
  },
  {
   "cell_type": "code",
   "execution_count": 10,
   "id": "31f9c686",
   "metadata": {},
   "outputs": [
    {
     "name": "stdout",
     "output_type": "stream",
     "text": [
      "Mean acceptance fraction: 0.808\n"
     ]
    }
   ],
   "source": [
    "print( \"Mean acceptance fraction: {0:.3f}\".format(np.mean(sampler.acceptance_fraction)) )"
   ]
  },
  {
   "cell_type": "code",
   "execution_count": 11,
   "id": "3134e5a1",
   "metadata": {
    "ExecuteTime": {
     "end_time": "2024-07-31T19:30:17.733517Z",
     "start_time": "2024-07-31T19:30:17.726165Z"
    }
   },
   "outputs": [
    {
     "name": "stdout",
     "output_type": "stream",
     "text": [
      "Determined systemic velocity and its uncertainty is: 49.7 ± 1.6 kms-1\n"
     ]
    }
   ],
   "source": [
    "samples = sampler.get_chain(discard=19000, thin=10, flat=True)\n",
    "\n",
    "print( \"Determined systemic velocity and its uncertainty is: %.1f ± %.1f kms-1\" %( np.average(samples[:,0]), \n",
    "                                                                                   np.std(samples[:,0])) )"
   ]
  },
  {
   "cell_type": "markdown",
   "id": "611180de",
   "metadata": {},
   "source": [
    "### Hist to compare"
   ]
  },
  {
   "cell_type": "code",
   "execution_count": 12,
   "id": "6b1e7935",
   "metadata": {
    "ExecuteTime": {
     "end_time": "2024-07-31T19:30:19.419697Z",
     "start_time": "2024-07-31T19:30:19.263691Z"
    }
   },
   "outputs": [
    {
     "data": {
      "image/png": "[encoded data removed]",
      "text/plain": [
       "<Figure size 700x550 with 1 Axes>"
      ]
     },
     "metadata": {},
     "output_type": "display_data"
    }
   ],
   "source": [
    "bins = 15\n",
    "\n",
    "yhist, xhist = np.histogram(samples[:,0], bins=bins, density=True)\n",
    "# gaia_vsys, error_gaia_vsys = 51.393063, 1.4457822\n",
    "\n",
    "\n",
    "fig, axs = plt.subplots(nrows=1,ncols=1,figsize=(7, 5.5))\n",
    "axs.hist(np.random.normal(gaia_vsys, error_gaia_vsys, len(samples[:,0])), \n",
    "         color=\"k\",\n",
    "         histtype=\"step\", \n",
    "         lw=1, \n",
    "         bins=bins,\n",
    "         ls=\"--\",\n",
    "         label=\"Gaia vsys dist.\", \n",
    "         density=False)\n",
    "\n",
    "axs.hist(np.random.normal(49.7, 1.6, len(samples[:,0])), \n",
    "         color=\"C3\", \n",
    "         histtype=\"step\", \n",
    "         lw=1, \n",
    "         bins=xhist,\n",
    "         ls=\":\",\n",
    "         label=\"APOGEE vsys dist.\", \n",
    "         density=False)\n",
    "\n",
    "axs.legend(loc=2)\n",
    "\n",
    "\n",
    "axs.set_xlabel(\"vsys [kms-1]\")\n",
    "\n",
    "plt.show()"
   ]
  },
  {
   "cell_type": "code",
   "execution_count": 15,
   "id": "d7f78dc3",
   "metadata": {
    "ExecuteTime": {
     "end_time": "2024-07-31T19:57:36.698633Z",
     "start_time": "2024-07-31T19:57:36.677067Z"
    }
   },
   "outputs": [
    {
     "name": "stdout",
     "output_type": "stream",
     "text": [
      "Difference: 1.693062999999995\n",
      "Combined Uncertainty: 2.1564522183059935\n",
      "Z-score: 0.7851150077092759\n",
      "P-value: 0.4323861412824854\n"
     ]
    }
   ],
   "source": [
    "import numpy as np\n",
    "from scipy.stats import norm\n",
    "\n",
    "# Define the values and their uncertainties\n",
    "\n",
    "x1 = gaia_vsys\n",
    "sigma1 = error_gaia_vsys\n",
    "x2 = 49.7 \n",
    "sigma2 = 1.6\n",
    "\n",
    "# Calculate the combined uncertainty\n",
    "sigma_diff = np.sqrt(sigma1**2 + sigma2**2)\n",
    "\n",
    "# Calculate the difference between the values\n",
    "diff = x1 - x2\n",
    "\n",
    "# Compute the z-score\n",
    "z = diff / sigma_diff\n",
    "\n",
    "# Calculate the p-value for a two-tailed test\n",
    "p_value = 2 * (1 - norm.cdf(abs(z)))\n",
    "\n",
    "print(f\"Difference: {diff}\")\n",
    "print(f\"Combined Uncertainty: {sigma_diff}\")\n",
    "print(f\"Z-score: {z}\")\n",
    "print(f\"P-value: {p_value}\")\n",
    "if p_value > 0.05:\n",
    "    print(\"The difference between both distributions is insignificant.\")"
   ]
  },
  {
   "cell_type": "code",
   "execution_count": null,
   "id": "587bf38d",
   "metadata": {},
   "outputs": [],
   "source": []
  },
  {
   "cell_type": "code",
   "execution_count": null,
   "id": "f885ace5",
   "metadata": {},
   "outputs": [],
   "source": []
  },
  {
   "cell_type": "markdown",
   "id": "e830c449",
   "metadata": {},
   "source": [
    "## Check data and systemic velocity"
   ]
  },
  {
   "cell_type": "code",
   "execution_count": 14,
   "id": "e1258f7e",
   "metadata": {
    "ExecuteTime": {
     "end_time": "2024-07-31T19:54:15.429822Z",
     "start_time": "2024-07-31T19:54:15.328393Z"
    }
   },
   "outputs": [
    {
     "data": {
      "image/png": "[encoded data removed]",
      "text/plain": [
       "<Figure size 700x550 with 1 Axes>"
      ]
     },
     "metadata": {},
     "output_type": "display_data"
    }
   ],
   "source": [
    "phase_star = np.mod(time_of_observations - time_of_brighness_maxima, pulsation_period) / pulsation_period\n",
    "\n",
    "phase_star_model = np.linspace(0, 1, 1000)\n",
    "\n",
    "model_velocity_rrab1 = function_fourier_fit(template_fourier, phase_star_model)*Amp_line_of_sight_vel + res.x[0]\n",
    "\n",
    "fig, axs = plt.subplots(nrows=1,ncols=1,figsize=(7, 5.5))\n",
    "\n",
    "axs.plot(phase_star_model, model_velocity_rrab1, c=\"k\",alpha=0.3)\n",
    "axs.errorbar(phase_star, line_of_sight_velocity, yerr=uncertainty_line_of_sight_velocity, fmt=\"o\", c=\"C2\")\n",
    "axs.set_xlabel(\"Phase\")\n",
    "axs.set_ylabel(\"Vlos\")\n",
    "axs.fill_between(np.linspace(0,1,10), \n",
    "                 np.ones(10)*51.393063 + 1.4457822, \n",
    "                 np.ones(10)*51.393063 - 1.4457822, alpha=0.1, color=\"C0\")\n",
    "axs.fill_between(np.linspace(0,1,10), \n",
    "                 np.ones(10)*49.7 + 1.6, \n",
    "                 np.ones(10)*49.7 - 1.6, alpha=0.1, color=\"C3\")\n",
    "axs.axhline(51.4, c=\"C0\", label=\"Gaia vsys\")\n",
    "axs.axhline(49.7, c=\"C3\", label=\"APOGEE vsys\")\n",
    "axs.set_xlim(0,1)\n",
    "plt.show()"
   ]
  },
  {
   "cell_type": "code",
   "execution_count": null,
   "id": "c6daf6e1",
   "metadata": {},
   "outputs": [],
   "source": []
  },
  {
   "cell_type": "code",
   "execution_count": null,
   "id": "478e69ea",
   "metadata": {},
   "outputs": [],
   "source": []
  },
  {
   "cell_type": "code",
   "execution_count": null,
   "id": "22480601",
   "metadata": {},
   "outputs": [],
   "source": []
  }
 ],
 "metadata": {
  "kernelspec": {
   "display_name": "Python 3 (ipykernel)",
   "language": "python",
   "name": "python3"
  },
  "language_info": {
   "codemirror_mode": {
    "name": "ipython",
    "version": 3
   },
   "file_extension": ".py",
   "mimetype": "text/x-python",
   "name": "python",
   "nbconvert_exporter": "python",
   "pygments_lexer": "ipython3",
   "version": "3.11.7"
  }
 },
 "nbformat": 4,
 "nbformat_minor": 5
}
