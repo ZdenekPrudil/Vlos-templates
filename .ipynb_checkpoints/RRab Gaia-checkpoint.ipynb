{
 "cells": [
  {
   "cell_type": "code",
   "execution_count": 1,
   "id": "43e7caee",
   "metadata": {
    "ExecuteTime": {
     "end_time": "2024-07-31T19:29:40.108285Z",
     "start_time": "2024-07-31T19:29:39.001089Z"
    }
   },
   "outputs": [],
   "source": [
    "from astropy.io import ascii\n",
    "from scipy.optimize import minimize\n",
    "from scipy import interpolate\n",
    "\n",
    "import numpy as np\n",
    "import matplotlib.pyplot as plt"
   ]
  },
  {
   "cell_type": "code",
   "execution_count": 2,
   "id": "3d9e3d53",
   "metadata": {
    "ExecuteTime": {
     "end_time": "2024-07-31T19:29:40.117444Z",
     "start_time": "2024-07-31T19:29:40.112178Z"
    }
   },
   "outputs": [],
   "source": [
    "# Fourier function, Eq. 7 in the paper\n",
    "def function_fourier_fit(a, t):\n",
    "    \n",
    "    ret = a[0] + a[1]*np.sin(2*np.pi*(t)) + a[2]*np.cos(2*np.pi*(t))\n",
    "    i = 0\n",
    "\n",
    "    for deg in range(3, len(a),2):\n",
    "        i+=1\n",
    "        ret += a[deg]*np.sin(2*(i+1)*np.pi*(t)) + a[deg+1]*np.cos(2*(i+1)*np.pi*(t))\n",
    "\n",
    "    return ret\n",
    "\n",
    "\n",
    "# Log-normal distribution\n",
    "def ln_normal(dy, std):\n",
    "    return -0.5 * (dy)**2 / std**2 - 0.5*np.log(2*np.pi) - np.log(std)"
   ]
  },
  {
   "cell_type": "markdown",
   "id": "e176fa1e",
   "metadata": {},
   "source": [
    "# Data for a given star"
   ]
  },
  {
   "cell_type": "code",
   "execution_count": 3,
   "id": "5038fe59",
   "metadata": {
    "ExecuteTime": {
     "end_time": "2024-07-31T19:29:40.126357Z",
     "start_time": "2024-07-31T19:29:40.121943Z"
    }
   },
   "outputs": [],
   "source": [
    "# --------- example\n",
    "\n",
    "time_of_brighness_maxima = 2455197.5 # M0\n",
    "pulsation_period = 0.53 # per\n",
    "ampG  = 0.6  # amplitude in G-band\n",
    "eampG = 0.01 # error on amplitude in G-band\n",
    "\n",
    "class_star = \"RRab\"\n",
    "\n",
    "time_of_observations = np.array([2455197.62, 2455197.642])  # JD\n",
    "line_of_sight_velocity = np.array([-30.6, -27.22])          # vlos\n",
    "uncertainty_line_of_sight_velocity = np.array([1.44, 2.32]) # evlos"
   ]
  },
  {
   "cell_type": "code",
   "execution_count": null,
   "id": "1294d6d4",
   "metadata": {
    "ExecuteTime": {
     "end_time": "2023-03-07T09:18:45.255853Z",
     "start_time": "2023-03-07T09:18:45.240653Z"
    }
   },
   "outputs": [],
   "source": []
  },
  {
   "cell_type": "markdown",
   "id": "b13e2920",
   "metadata": {},
   "source": [
    "## Amplitude scaling relation"
   ]
  },
  {
   "cell_type": "code",
   "execution_count": 4,
   "id": "b3e4f3f7",
   "metadata": {
    "ExecuteTime": {
     "end_time": "2024-07-31T19:29:40.135542Z",
     "start_time": "2024-07-31T19:29:40.130664Z"
    }
   },
   "outputs": [],
   "source": [
    "# Equations 14 and 15 in the paper\n",
    "scaling_relation_RRab = np.array([39, -133, 159])\n",
    "scaling_relation_RRc = np.array([62.0])\n",
    "\n",
    "# Equations 16 and 17 in the paper\n",
    "covariance_matrix_scaling_relation_RRab = np.array([[ 172, -271, 97], \n",
    "                                                    [-271, 438, -163], \n",
    "                                                    [97, -163, 64]])\n",
    "\n",
    "covariance_matrix_scaling_relation_RRc = np.array([4.0]) "
   ]
  },
  {
   "cell_type": "markdown",
   "id": "1d63e091",
   "metadata": {
    "ExecuteTime": {
     "end_time": "2023-02-28T10:00:07.151343Z",
     "start_time": "2023-02-28T10:00:07.078144Z"
    },
    "code_folding": []
   },
   "source": [
    "## Template and scatter in template"
   ]
  },
  {
   "cell_type": "code",
   "execution_count": 5,
   "id": "26a8ba72",
   "metadata": {
    "ExecuteTime": {
     "end_time": "2024-07-31T19:29:40.276838Z",
     "start_time": "2024-07-31T19:29:40.272068Z"
    }
   },
   "outputs": [],
   "source": [
    "#                phase   RRab1   RRab2   RRab3    RRc\n",
    "err = np.array([[0.000 , 0.068 , 0.073 , 0.053 , 0.095],\n",
    "                [0.025 , 0.068 , 0.073 , 0.053 , 0.095],\n",
    "                [0.075 , 0.036 , 0.071 , 0.048 , 0.079],\n",
    "                [0.125 , 0.054 , 0.052 , 0.047 , 0.105],\n",
    "                [0.175 , 0.051 , 0.049 , 0.058 , 0.062],\n",
    "                [0.225 , 0.065 , 0.033 , 0.044 , 0.082],\n",
    "                [0.275 , 0.053 , 0.051 , 0.043 , 0.069],\n",
    "                [0.325 , 0.069 , 0.047 , 0.039 , 0.064],\n",
    "                [0.375 , 0.057 , 0.051 , 0.063 , 0.096],\n",
    "                [0.425 , 0.069 , 0.050 , 0.058 , 0.052],\n",
    "                [0.475 , 0.053 , 0.048 , 0.032 , 0.086],\n",
    "                [0.525 , 0.056 , 0.051 , 0.023 , 0.064],\n",
    "                [0.575 , 0.060 , 0.069 , 0.031 , 0.056],\n",
    "                [0.625 , 0.057 , 0.055 , 0.110 , 0.061],\n",
    "                [0.675 , 0.072 , 0.049 , 0.066 , 0.086],\n",
    "                [0.725 , 0.045 , 0.052 , 0.071 , 0.165],\n",
    "                [0.775 , 0.058 , 0.068 , 0.039 , 0.121],\n",
    "                [0.825 , 0.095 , 0.073 , 0.093 , 0.163],\n",
    "                [0.875 , 0.112 , 0.273 , 0.215 , 0.210],\n",
    "                [0.925 , 0.218 , 0.172 , 0.036 , 0.091],\n",
    "                [0.975 , 0.064 , 0.094 , 0.038 , 0.091],\n",
    "                [1.000 , 0.064 , 0.094 , 0.038 , 0.091]])"
   ]
  },
  {
   "cell_type": "code",
   "execution_count": 6,
   "id": "cf336487",
   "metadata": {
    "ExecuteTime": {
     "end_time": "2024-07-31T19:29:40.484631Z",
     "start_time": "2024-07-31T19:29:40.477040Z"
    }
   },
   "outputs": [],
   "source": [
    "# Table 3, first row in the paper\n",
    "template_fourier_rrab1 = np.array([0.0000, -0.2699, -0.2723, \n",
    "                                   -0.0540, -0.1428, 0.0120, \n",
    "                                   -0.0955, 0.0402, -0.0493, \n",
    "                                   0.0381, -0.0115])\n",
    "\n",
    "template_fourier_rrab2 = np.array([0.0000, -0.2983, -0.2924, \n",
    "                                   -0.0538, -0.1330, -0.0101, \n",
    "                                   -0.0931, 0.0419, -0.0642, \n",
    "                                   0.0511, -0.0206]) \n",
    "\n",
    "template_fourier_rrab3 = np.array([0.0000, -0.2931, -0.2508, \n",
    "                                   -0.0772, -0.1432, 0.0057, \n",
    "                                   -0.1009, 0.0577, -0.0403, \n",
    "                                   0.0386, -0.0041]) \n",
    "\n",
    "template_fourier_rrc = np.array([0.0000, -0.1997, -0.3880, \n",
    "                                 0.0328, -0.1382, 0.0455, \n",
    "                                 -0.0297])\n",
    "\n",
    "# Table B5, first column in the paper\n",
    "phase_for_scatter_in_template = err[:,0]\n",
    "\n",
    "# Table B5, second column in the paper\n",
    "scatter_in_template_rrab1 = err[:,1]\n",
    "scatter_in_template_rrab2 = err[:,2]   \n",
    "scatter_in_template_rrab3 = err[:,3]  \n",
    "scatter_in_template_rrc   = err[:,4]\n",
    "\n",
    "\n",
    "# Spline function that interpolates the discrete scatter along the pulsation phase\n",
    "f_spline_err_rrab1 = interpolate.interp1d(phase_for_scatter_in_template, scatter_in_template_rrab1, kind='linear')\n",
    "f_spline_err_rrab2 = interpolate.interp1d(phase_for_scatter_in_template, scatter_in_template_rrab2, kind='linear')\n",
    "f_spline_err_rrab3 = interpolate.interp1d(phase_for_scatter_in_template, scatter_in_template_rrab3, kind='linear')\n",
    "f_spline_err_rrc   = interpolate.interp1d(phase_for_scatter_in_template, scatter_in_template_rrc, kind='linear')"
   ]
  },
  {
   "cell_type": "code",
   "execution_count": 7,
   "id": "e5bddc50",
   "metadata": {
    "ExecuteTime": {
     "end_time": "2024-07-31T19:29:40.647147Z",
     "start_time": "2024-07-31T19:29:40.642825Z"
    }
   },
   "outputs": [
    {
     "name": "stdout",
     "output_type": "stream",
     "text": [
      "Predicted amplitude of the line of sight velocity and its error is: 55.9 ± 5.1 kms-1\n"
     ]
    }
   ],
   "source": [
    "vector = np.array([ampG**3, ampG**2, ampG])\n",
    "derivative_vector = np.array([ampG**2, ampG, 1.0])\n",
    "epsilon_rrab = 5.\n",
    "\n",
    "Amp_line_of_sight_vel = scaling_relation_RRab @ vector \n",
    "uncertainty_Amp_line_of_sight_vel = np.sqrt(vector @ covariance_matrix_scaling_relation_RRab @ vector.T \n",
    "                                                    + ((scaling_relation_RRab[:3] @ derivative_vector)**2)*(eampG**2) + epsilon_rrab**2)                                          \n",
    "        \n",
    "print(r\"Predicted amplitude of the line of sight velocity and its error is: %.1f ± %.1f kms-1\" %(Amp_line_of_sight_vel, \n",
    "                                                                                           uncertainty_Amp_line_of_sight_vel))"
   ]
  },
  {
   "cell_type": "code",
   "execution_count": null,
   "id": "7ebe9ca1",
   "metadata": {},
   "outputs": [],
   "source": []
  },
  {
   "cell_type": "code",
   "execution_count": null,
   "id": "ff8e485d",
   "metadata": {},
   "outputs": [],
   "source": []
  },
  {
   "cell_type": "code",
   "execution_count": 8,
   "id": "47aaa9cd",
   "metadata": {
    "ExecuteTime": {
     "end_time": "2024-07-31T19:29:41.152554Z",
     "start_time": "2024-07-31T19:29:41.146847Z"
    }
   },
   "outputs": [],
   "source": [
    "def systematic_velocity_determ(param, HJD, measured_velocity, uncertainty_measured_velocity, \n",
    "                               P, M0, Alos, eAlos, template_fourier, f_spline_err):\n",
    "    \n",
    "    vsys = param\n",
    "\n",
    "    # Equation 21 in paper\n",
    "    phase_star = np.mod(HJD - M0, P) / P\n",
    "    \n",
    "    # Equation 19 in paper\n",
    "    model_velocity = function_fourier_fit(template_fourier, phase_star)*Alos + vsys\n",
    "\n",
    "    # Equation 20 in paper\n",
    "    evel_fin = np.sqrt(uncertainty_measured_velocity**2 \n",
    "                       + (f_spline_err(phase_star)*Alos)**2 \n",
    "                       + (function_fourier_fit(template_fourier,phase_star)*eAlos)**2 )\n",
    "\n",
    "    # Equation 18 in paper\n",
    "    result = ln_normal(measured_velocity - model_velocity, evel_fin) \n",
    "\n",
    "    \n",
    "    return np.nansum(result[np.isfinite(result)])\n",
    "\n",
    "\n",
    "\n",
    "\n",
    "# Possibility for including some priors\n",
    "def prior(param):\n",
    "    # pick a prior\n",
    "    return 0.0\n",
    "\n",
    "\n",
    "def LOG_probability(param, HJD, measured_velocity, uncertainty_measured_velocity, P, M0, Alos, eAlos, \n",
    "                    template_fourier, f_spline_err):\n",
    "    \n",
    "    lp = prior(param)\n",
    "    \n",
    "    rety = systematic_velocity_determ(param, HJD, measured_velocity, \n",
    "                                      uncertainty_measured_velocity, \n",
    "                                      P, M0, Alos, eAlos, template_fourier, \n",
    "                                      f_spline_err) \n",
    "\n",
    "    return lp + rety\n",
    "\n",
    "\n",
    "def LOG_minus(param, HJD, measured_velocity, uncertainty_measured_velocity, P, M0, Alos, eAlos, template_fourier, f_spline_err):\n",
    "    return -LOG_probability(param, HJD, measured_velocity, uncertainty_measured_velocity, P, M0, Alos, eAlos, template_fourier, f_spline_err)"
   ]
  },
  {
   "cell_type": "code",
   "execution_count": null,
   "id": "d050a31b",
   "metadata": {},
   "outputs": [],
   "source": []
  },
  {
   "cell_type": "markdown",
   "id": "3e789ce6",
   "metadata": {},
   "source": [
    "## Using Scipy library"
   ]
  },
  {
   "cell_type": "code",
   "execution_count": 9,
   "id": "4cad117c",
   "metadata": {
    "ExecuteTime": {
     "end_time": "2024-07-31T19:29:41.668412Z",
     "start_time": "2024-07-31T19:29:41.660301Z"
    }
   },
   "outputs": [
    {
     "name": "stdout",
     "output_type": "stream",
     "text": [
      "Determined systemic velocity and its uncertainty is: -20.1 ± 2.8 kms-1\n"
     ]
    }
   ],
   "source": [
    "if (class_star == \"RRab\") and (pulsation_period < 0.55):\n",
    "    p0 = np.array([-50.])\n",
    "\n",
    "    \n",
    "    res = minimize(LOG_minus, x0=p0, args=(time_of_observations, \n",
    "                                          line_of_sight_velocity, \n",
    "                                          uncertainty_line_of_sight_velocity, \n",
    "                                          pulsation_period, \n",
    "                                          time_of_brighness_maxima, \n",
    "                                          Amp_line_of_sight_vel, \n",
    "                                          uncertainty_Amp_line_of_sight_vel, \n",
    "                                          template_fourier_rrab1, \n",
    "                                          f_spline_err_rrab1), method='BFGS') #SLSQP\n",
    "\n",
    "\n",
    "    print(\"Determined systemic velocity and its uncertainty is: %.1f ± %.1f kms-1\" %(res.x[0], np.sqrt(np.diag(res.hess_inv))[0]))\n",
    "\n",
    "elif (class_star == \"RRab\") and (pulsation_period > 0.55) and (pulsation_period < 0.7):\n",
    "    \n",
    "    p0 = np.array([-50.])\n",
    "\n",
    "    res = minimize(LOG_minus, x0=p0, args=(time_of_observations, \n",
    "                                          line_of_sight_velocity, \n",
    "                                          uncertainty_line_of_sight_velocity, \n",
    "                                          pulsation_period, \n",
    "                                          time_of_brighness_maxima, \n",
    "                                          Amp_line_of_sight_vel, \n",
    "                                          uncertainty_Amp_line_of_sight_vel, \n",
    "                                          template_fourier_rrab2, \n",
    "                                          f_spline_err_rrab2), method='BFGS') #SLSQP\n",
    "\n",
    "\n",
    "    print(\"Determined systemic velocity and its uncertainty is: %.1f ± %.1f kms-1\" %(res.x[0], np.sqrt(np.diag(res.hess_inv))[0]))\n",
    "elif (class_star == \"RRab\") and (pulsation_period > 0.7):\n",
    "    \n",
    "    p0 = np.array([-50.])\n",
    "\n",
    "    res = minimize(LOG_minus, x0=p0, args=(time_of_observations, \n",
    "                                          line_of_sight_velocity, \n",
    "                                          uncertainty_line_of_sight_velocity, \n",
    "                                          pulsation_period, \n",
    "                                          time_of_brighness_maxima, \n",
    "                                          Amp_line_of_sight_vel, \n",
    "                                          uncertainty_Amp_line_of_sight_vel, \n",
    "                                          template_fourier_rrab3, \n",
    "                                          f_spline_err_rrab3), method='BFGS') #SLSQP\n",
    "\n",
    "\n",
    "    print(\"Determined systemic velocity and its uncertainty is: %.1f ± %.1f kms-1\" %(res.x[0], np.sqrt(np.diag(res.hess_inv))[0]))\n",
    "\n",
    "\n"
   ]
  },
  {
   "cell_type": "code",
   "execution_count": null,
   "id": "b3fa572a",
   "metadata": {},
   "outputs": [],
   "source": []
  },
  {
   "cell_type": "code",
   "execution_count": 10,
   "id": "3d4acd9f",
   "metadata": {
    "ExecuteTime": {
     "end_time": "2024-07-31T19:29:42.551495Z",
     "start_time": "2024-07-31T19:29:42.448505Z"
    }
   },
   "outputs": [
    {
     "data": {
      "image/png": "[encoded data removed]",
      "text/plain": [
       "<Figure size 640x480 with 1 Axes>"
      ]
     },
     "metadata": {},
     "output_type": "display_data"
    }
   ],
   "source": [
    "phase_star = np.mod(time_of_observations - time_of_brighness_maxima, pulsation_period) / pulsation_period\n",
    "\n",
    "phase_star_model = np.linspace(0, 1, 1000)\n",
    "\n",
    "model_velocity_rrab1 = function_fourier_fit(template_fourier_rrab1, phase_star_model)*Amp_line_of_sight_vel + res.x[0]\n",
    "\n",
    "plt.plot(phase_star_model, model_velocity_rrab1)\n",
    "plt.errorbar(phase_star, line_of_sight_velocity, yerr=uncertainty_line_of_sight_velocity, fmt=\"o\")\n",
    "plt.xlabel(\"Phase\")\n",
    "plt.ylabel(\"Vlos\")\n",
    "plt.show()"
   ]
  },
  {
   "cell_type": "code",
   "execution_count": null,
   "id": "ce17c700",
   "metadata": {},
   "outputs": [],
   "source": []
  },
  {
   "cell_type": "code",
   "execution_count": null,
   "id": "ef9535c7",
   "metadata": {},
   "outputs": [],
   "source": []
  },
  {
   "cell_type": "code",
   "execution_count": null,
   "id": "cc693f56",
   "metadata": {},
   "outputs": [],
   "source": []
  }
 ],
 "metadata": {
  "kernelspec": {
   "display_name": "Python 3 (ipykernel)",
   "language": "python",
   "name": "python3"
  },
  "language_info": {
   "codemirror_mode": {
    "name": "ipython",
    "version": 3
   },
   "file_extension": ".py",
   "mimetype": "text/x-python",
   "name": "python",
   "nbconvert_exporter": "python",
   "pygments_lexer": "ipython3",
   "version": "3.11.7"
  }
 },
 "nbformat": 4,
 "nbformat_minor": 5
}
