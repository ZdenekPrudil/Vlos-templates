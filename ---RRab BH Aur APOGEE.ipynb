{
 "cells": [
  {
   "cell_type": "code",
   "execution_count": 1,
   "id": "43e7caee",
   "metadata": {
    "ExecuteTime": {
     "end_time": "2023-03-21T14:32:40.362420Z",
     "start_time": "2023-03-21T14:32:38.611593Z"
    }
   },
   "outputs": [],
   "source": [
    "from scipy.optimize import minimize\n",
    "from joblib import Parallel, delayed, parallel_backend\n",
    "from multiprocessing import cpu_count, Pool\n",
    "from numpy.linalg import inv, det\n",
    "from astropy.io import ascii\n",
    "from scipy.optimize import minimize, rosen, rosen_der\n",
    "from scipy import interpolate\n",
    "from scipy.optimize import minimize\n",
    "\n",
    "import numpy as np\n",
    "import matplotlib.pyplot as plt\n",
    "import emcee\n",
    "import multiprocessing\n",
    "import corner"
   ]
  },
  {
   "cell_type": "code",
   "execution_count": 2,
   "id": "3d9e3d53",
   "metadata": {
    "ExecuteTime": {
     "end_time": "2023-03-21T14:32:40.367800Z",
     "start_time": "2023-03-21T14:32:40.363868Z"
    }
   },
   "outputs": [],
   "source": [
    "# Fourier function, Eq. 8 in the paper\n",
    "def function_fourier_fit(a, t):\n",
    "    \n",
    "    ret = a[0] + a[1]*np.sin(2*np.pi*(t)) + a[2]*np.cos(2*np.pi*(t))\n",
    "    i = 0\n",
    "\n",
    "    for deg in range(3, len(a),2):\n",
    "        i+=1\n",
    "        ret += a[deg]*np.sin(2*(i+1)*np.pi*(t)) + a[deg+1]*np.cos(2*(i+1)*np.pi*(t))\n",
    "\n",
    "    return ret\n",
    "\n",
    "\n",
    "# Log-normal distribution\n",
    "def ln_normal(dy, std):\n",
    "    return -0.5 * (dy)**2 / std**2 - 0.5*np.log(2*np.pi) - np.log(std)"
   ]
  },
  {
   "cell_type": "markdown",
   "id": "e176fa1e",
   "metadata": {},
   "source": [
    "# BH-Aur     --- RRab type"
   ]
  },
  {
   "cell_type": "code",
   "execution_count": 3,
   "id": "1294d6d4",
   "metadata": {
    "ExecuteTime": {
     "end_time": "2023-03-21T14:32:40.372026Z",
     "start_time": "2023-03-21T14:32:40.369187Z"
    }
   },
   "outputs": [],
   "source": [
    "name_star = \"BH-Aur\"\n",
    "\n",
    "\n",
    "# Spectroscopic data obtained from the analysis of APOGEE subvisits\n",
    "line_of_sight_velocity = np.array([54.1, 56.4, 57.5, 60.2]) # corr for Heliocentric vel.\n",
    "uncertainty_line_of_sight_velocity = np.array([1.2, 2.2, 3.7, 13.9])      \n",
    "time_of_observations = np.array([2457428.816665, 2457428.828389, 2457428.8401, 2457428.851875]) # HJD\n",
    "\n",
    "\n",
    "# Photometric information on BH Aur\n",
    "amplitude_Vband             = 0.852168 # mag\n",
    "uncertainty_amplitude_Vband = 0.004253 # mag\n",
    "pulsation_period            = 0.456073 # day\n",
    "time_of_brighness_maxima    = 2457388.958666 # day\n",
    "\n",
    "\n",
    "# 'Ground truth' from Gaia data\n",
    "gaia_vsys, error_gaia_vsys = 51.393063, 1.4457822"
   ]
  },
  {
   "cell_type": "markdown",
   "id": "b13e2920",
   "metadata": {},
   "source": [
    "## Amplitude scaling relation"
   ]
  },
  {
   "cell_type": "code",
   "execution_count": 4,
   "id": "b3e4f3f7",
   "metadata": {
    "ExecuteTime": {
     "end_time": "2023-03-21T14:34:08.863110Z",
     "start_time": "2023-03-21T14:34:08.851524Z"
    }
   },
   "outputs": [],
   "source": [
    "# Equation 6 in the paper\n",
    "scaling_relation = 73.  \n",
    "\n",
    "# Equation 6 in the paper\n",
    "error_on_scaling = 1."
   ]
  },
  {
   "cell_type": "markdown",
   "id": "1d63e091",
   "metadata": {
    "ExecuteTime": {
     "end_time": "2023-02-28T10:00:07.151343Z",
     "start_time": "2023-02-28T10:00:07.078144Z"
    },
    "code_folding": []
   },
   "source": [
    "## Template and scatter in template"
   ]
  },
  {
   "cell_type": "code",
   "execution_count": 5,
   "id": "cf336487",
   "metadata": {
    "ExecuteTime": {
     "end_time": "2023-03-21T14:34:09.734750Z",
     "start_time": "2023-03-21T14:34:09.719712Z"
    }
   },
   "outputs": [],
   "source": [
    "# Table 2, first row in the paper\n",
    "template_fourier = np.array([-0.0000, -0.2736, -0.3116, -0.0560, \n",
    "                             -0.1544, 0.0099, -0.0976, 0.0399, \n",
    "                             -0.0421, 0.0237, 0.0041]) \n",
    "\n",
    "# Table B3, first column in the paper\n",
    "phase_for_scatter_in_template = np.array([0.000, 0.025, 0.075, 0.125, \n",
    "                                          0.175, 0.225, 0.275, 0.325, \n",
    "                                          0.375, 0.425, 0.475, 0.525, \n",
    "                                          0.575, 0.625, 0.675, 0.725, \n",
    "                                          0.775, 0.825, 0.875, 0.925, \n",
    "                                          0.975, 1.000])  \n",
    "\n",
    "# Table B3, second column in the paper\n",
    "scatter_in_template = np.array([0.068, 0.068, 0.083, 0.056, \n",
    "                                0.035, 0.079, 0.046, 0.051, \n",
    "                                0.056, 0.038, 0.065, 0.045, \n",
    "                                0.063, 0.071, 0.067, 0.080, \n",
    "                                0.063, 0.052, 0.211, 0.209, \n",
    "                                0.073, 0.073,])            \n",
    "\n",
    "\n",
    "# Spline function that interpolates the discrete scatter along the pulsation phase\n",
    "f_spline_err = interpolate.interp1d(phase_for_scatter_in_template, \n",
    "                                    scatter_in_template, \n",
    "                                    kind='linear')"
   ]
  },
  {
   "cell_type": "code",
   "execution_count": null,
   "id": "e075a422",
   "metadata": {
    "ExecuteTime": {
     "end_time": "2023-03-21T14:35:32.106221Z",
     "start_time": "2023-03-21T14:35:32.086698Z"
    }
   },
   "outputs": [],
   "source": []
  },
  {
   "cell_type": "code",
   "execution_count": 16,
   "id": "005a99ca",
   "metadata": {
    "ExecuteTime": {
     "end_time": "2023-03-21T14:35:48.564639Z",
     "start_time": "2023-03-21T14:35:48.555438Z"
    }
   },
   "outputs": [
    {
     "name": "stdout",
     "output_type": "stream",
     "text": [
      "Predicted amplitude of the line of sight velocity and its error is: 62.2 ± 0.9 kms-1\n"
     ]
    }
   ],
   "source": [
    "vector = amplitude_Vband\n",
    "\n",
    "Amp_line_of_sight_vel = scaling_relation * vector # scaling_relation[0] * amplitude_Vband + scaling_relation[1]\n",
    "uncertainty_Amp_line_of_sight_vel = np.sqrt(vector * error_on_scaling * vector \n",
    "                                      + (scaling_relation**2)*(uncertainty_amplitude_Vband**2) )\n",
    "\n",
    "print(r\"Predicted amplitude of the line of sight velocity and its error is: %.1f ± %.1f kms-1\" %(Amp_line_of_sight_vel, \n",
    "                                                                                           uncertainty_Amp_line_of_sight_vel))"
   ]
  },
  {
   "cell_type": "code",
   "execution_count": null,
   "id": "70762693",
   "metadata": {
    "ExecuteTime": {
     "end_time": "2023-03-21T14:36:02.662733Z",
     "start_time": "2023-03-21T14:36:02.648295Z"
    }
   },
   "outputs": [],
   "source": []
  },
  {
   "cell_type": "code",
   "execution_count": null,
   "id": "5488d0d2",
   "metadata": {
    "ExecuteTime": {
     "end_time": "2023-03-08T08:55:44.873852Z",
     "start_time": "2023-03-08T08:55:44.852821Z"
    }
   },
   "outputs": [],
   "source": []
  },
  {
   "cell_type": "code",
   "execution_count": 13,
   "id": "a004a165",
   "metadata": {
    "ExecuteTime": {
     "end_time": "2023-03-21T14:36:11.424408Z",
     "start_time": "2023-03-21T14:36:11.408467Z"
    }
   },
   "outputs": [],
   "source": [
    "def systematic_velocity_determ(param, HJD, measured_velocity, uncertainty_measured_velocity, P, M0, Alos, eAlos):\n",
    "    \n",
    "    vsys = param\n",
    "\n",
    "    # Equation 18 in paper\n",
    "    phase_star = np.mod(HJD - M0, P) / P\n",
    "    \n",
    "    # Equation 16 in paper\n",
    "    model_velocity = function_fourier_fit(template_fourier, phase_star)*Alos + vsys\n",
    "\n",
    "    # Equation 17 in paper\n",
    "    evel_fin = np.sqrt(uncertainty_measured_velocity**2 \n",
    "                       + (f_spline_err(phase_star)*Alos)**2 \n",
    "                       + (function_fourier_fit(template_fourier,phase_star)*eAlos)**2 )\n",
    "\n",
    "    # Equation 15 in paper\n",
    "    result = ln_normal(measured_velocity - model_velocity, evel_fin) \n",
    "\n",
    "    \n",
    "    return np.nansum(result[np.isfinite(result)])\n",
    "\n",
    "\n",
    "# Possibility for including some priors\n",
    "def prior(param):\n",
    "    # pick a prior\n",
    "    return 0.\n",
    "\n",
    "#    \n",
    "def LOG_probability(param, HJD, measured_velocity, uncertainty_measured_velocity, P, M0, Alos, eAlos):\n",
    "    \n",
    "    lp = prior(param)\n",
    "    \n",
    "    rety = systematic_velocity_determ(param, HJD, measured_velocity, \n",
    "                                      uncertainty_measured_velocity, \n",
    "                                      P, M0, Alos, eAlos) \n",
    "\n",
    "    return lp + rety\n",
    "\n",
    "\n",
    "def LOG_minus(param, HJD, measured_velocity, uncertainty_measured_velocity, P, M0, Alos, eAlos):\n",
    "    return -LOG_probability(param, HJD, measured_velocity, uncertainty_measured_velocity, P, M0, Alos, eAlos)"
   ]
  },
  {
   "cell_type": "code",
   "execution_count": null,
   "id": "be3ecf5b",
   "metadata": {
    "ExecuteTime": {
     "end_time": "2023-03-21T14:36:19.400595Z",
     "start_time": "2023-03-21T14:36:19.386298Z"
    }
   },
   "outputs": [],
   "source": []
  },
  {
   "cell_type": "markdown",
   "id": "b0517cf3",
   "metadata": {},
   "source": [
    "# --- Scipy way ---"
   ]
  },
  {
   "cell_type": "code",
   "execution_count": 14,
   "id": "740e5df1",
   "metadata": {
    "ExecuteTime": {
     "end_time": "2023-03-21T14:36:21.894887Z",
     "start_time": "2023-03-21T14:36:21.875866Z"
    }
   },
   "outputs": [
    {
     "name": "stdout",
     "output_type": "stream",
     "text": [
      "Determined systemic velocity and its uncertainty is: 48.8 ± 2.1 kms-1\n"
     ]
    }
   ],
   "source": [
    "p0 = np.array([-11.])\n",
    "\n",
    "res = minimize(LOG_minus, x0=p0, args=(time_of_observations, \n",
    "                                      line_of_sight_velocity, \n",
    "                                      uncertainty_line_of_sight_velocity, \n",
    "                                      pulsation_period, \n",
    "                                      time_of_brighness_maxima, \n",
    "                                      Amp_line_of_sight_vel, \n",
    "                                      uncertainty_Amp_line_of_sight_vel), method='BFGS') #SLSQP\n",
    "\n",
    "\n",
    "print(\"Determined systemic velocity and its uncertainty is: %.1f ± %.1f kms-1\" %(res.x[0], np.sqrt(np.diag(res.hess_inv))[0]))"
   ]
  },
  {
   "cell_type": "code",
   "execution_count": 15,
   "id": "e1258f7e",
   "metadata": {
    "ExecuteTime": {
     "end_time": "2023-03-08T08:58:31.911465Z",
     "start_time": "2023-03-08T08:58:31.785059Z"
    }
   },
   "outputs": [
    {
     "data": {
      "image/png": "[encoded data removed]",
      "text/plain": [
       "<Figure size 640x480 with 1 Axes>"
      ]
     },
     "metadata": {},
     "output_type": "display_data"
    }
   ],
   "source": [
    "phase_star = np.mod(time_of_observations - time_of_brighness_maxima, pulsation_period) / pulsation_period\n",
    "\n",
    "phase_star_model = np.linspace(0, 1, 1000)\n",
    "\n",
    "model_velocity_rrab1 = function_fourier_fit(template_fourier, phase_star_model)*Amp_line_of_sight_vel + res.x[0]\n",
    "\n",
    "plt.plot(phase_star_model, model_velocity_rrab1)\n",
    "plt.errorbar(phase_star, line_of_sight_velocity, yerr=uncertainty_line_of_sight_velocity, fmt=\"o\")\n",
    "plt.xlabel(\"Phase\")\n",
    "plt.ylabel(\"Vlos\")\n",
    "plt.show()"
   ]
  },
  {
   "cell_type": "code",
   "execution_count": null,
   "id": "c6daf6e1",
   "metadata": {},
   "outputs": [],
   "source": []
  },
  {
   "cell_type": "code",
   "execution_count": null,
   "id": "478e69ea",
   "metadata": {},
   "outputs": [],
   "source": []
  },
  {
   "cell_type": "code",
   "execution_count": null,
   "id": "22480601",
   "metadata": {},
   "outputs": [],
   "source": []
  }
 ],
 "metadata": {
  "kernelspec": {
   "display_name": "Python 3 (ipykernel)",
   "language": "python",
   "name": "python3"
  },
  "language_info": {
   "codemirror_mode": {
    "name": "ipython",
    "version": 3
   },
   "file_extension": ".py",
   "mimetype": "text/x-python",
   "name": "python",
   "nbconvert_exporter": "python",
   "pygments_lexer": "ipython3",
   "version": "3.11.3"
  }
 },
 "nbformat": 4,
 "nbformat_minor": 5
}
