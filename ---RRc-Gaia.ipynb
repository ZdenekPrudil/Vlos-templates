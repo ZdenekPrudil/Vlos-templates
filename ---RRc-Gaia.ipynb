{
 "cells": [
  {
   "cell_type": "code",
   "execution_count": 1,
   "id": "43e7caee",
   "metadata": {
    "ExecuteTime": {
     "end_time": "2023-03-15T08:03:10.452500Z",
     "start_time": "2023-03-15T08:03:08.998854Z"
    }
   },
   "outputs": [],
   "source": [
    "from astropy.io import ascii\n",
    "from scipy.optimize import minimize\n",
    "from scipy import interpolate\n",
    "\n",
    "import numpy as np\n",
    "import matplotlib.pyplot as plt"
   ]
  },
  {
   "cell_type": "code",
   "execution_count": 2,
   "id": "3d9e3d53",
   "metadata": {
    "ExecuteTime": {
     "end_time": "2023-03-15T08:03:10.457297Z",
     "start_time": "2023-03-15T08:03:10.453905Z"
    }
   },
   "outputs": [],
   "source": [
    "# Fourier function, Eq. 8 in the paper\n",
    "def function_fourier_fit(a, t):\n",
    "    \n",
    "    ret = a[0] + a[1]*np.sin(2*np.pi*(t)) + a[2]*np.cos(2*np.pi*(t))\n",
    "    i = 0\n",
    "\n",
    "    for deg in range(3, len(a),2):\n",
    "        i+=1\n",
    "        ret += a[deg]*np.sin(2*(i+1)*np.pi*(t)) + a[deg+1]*np.cos(2*(i+1)*np.pi*(t))\n",
    "\n",
    "    return ret\n",
    "\n",
    "\n",
    "# Log-normal distribution\n",
    "def ln_normal(dy, std):\n",
    "    return -0.5 * (dy)**2 / std**2 - 0.5*np.log(2*np.pi) - np.log(std)"
   ]
  },
  {
   "cell_type": "markdown",
   "id": "e176fa1e",
   "metadata": {},
   "source": [
    "# Data for a given star"
   ]
  },
  {
   "cell_type": "code",
   "execution_count": 3,
   "id": "5038fe59",
   "metadata": {
    "ExecuteTime": {
     "end_time": "2023-03-15T08:05:01.179242Z",
     "start_time": "2023-03-15T08:05:00.608444Z"
    }
   },
   "outputs": [],
   "source": [
    "# --------- example\n",
    "\n",
    "time_of_brighness_maxima = 2455197.5 # M0\n",
    "pulsation_period = 0.33 # per\n",
    "ampV = 0.4   # amplitude in V-band\n",
    "eampV = 0.01 # error on amplitude in V-band\n",
    "\n",
    "class_star = \"RRc\"\n",
    "\n",
    "time_of_observations = np.array([2455197.62, 2455197.642]) # JD\n",
    "line_of_sight_velocity = np.array([-30.6, -27.22]) # vlos\n",
    "uncertainty_line_of_sight_velocity = np.array([1.44, 2.32]) # evlos"
   ]
  },
  {
   "cell_type": "code",
   "execution_count": null,
   "id": "1294d6d4",
   "metadata": {
    "ExecuteTime": {
     "end_time": "2023-03-07T09:18:45.255853Z",
     "start_time": "2023-03-07T09:18:45.240653Z"
    }
   },
   "outputs": [],
   "source": []
  },
  {
   "cell_type": "markdown",
   "id": "b13e2920",
   "metadata": {},
   "source": [
    "## Amplitude scaling relation"
   ]
  },
  {
   "cell_type": "code",
   "execution_count": 4,
   "id": "b3e4f3f7",
   "metadata": {
    "ExecuteTime": {
     "end_time": "2023-03-15T08:05:01.785553Z",
     "start_time": "2023-03-15T08:05:01.767958Z"
    }
   },
   "outputs": [],
   "source": [
    "# Equations 9 in the paper\n",
    "scaling_relation_RRc = np.array([58.0]) \n",
    "error_on_scaling_relation_RRc = np.array([2.0]) "
   ]
  },
  {
   "cell_type": "markdown",
   "id": "1d63e091",
   "metadata": {
    "ExecuteTime": {
     "end_time": "2023-02-28T10:00:07.151343Z",
     "start_time": "2023-02-28T10:00:07.078144Z"
    },
    "code_folding": []
   },
   "source": [
    "## Template and scatter in template"
   ]
  },
  {
   "cell_type": "code",
   "execution_count": 5,
   "id": "cf336487",
   "metadata": {
    "ExecuteTime": {
     "end_time": "2023-03-15T08:05:04.872544Z",
     "start_time": "2023-03-15T08:05:04.802847Z"
    }
   },
   "outputs": [],
   "source": [
    "# Table 3, last row in the table\n",
    "template_fourier_rrc = np.array([+0.0000, -0.3417, -0.3166, \n",
    "                                 -0.1069, -0.0751, -0.0220, \n",
    "                                 -0.0424]) \n",
    "\n",
    "# Table B4, first column in the table\n",
    "phase_for_scatter_in_template = np.array([0.000, 0.025, 0.075, 0.125, \n",
    "                                          0.175, 0.225, 0.275, 0.325, \n",
    "                                          0.375, 0.425, 0.475, 0.525, \n",
    "                                          0.575, 0.625, 0.675, 0.725, \n",
    "                                          0.775, 0.825, 0.875, 0.925, \n",
    "                                          0.975, 1.000])  \n",
    "\n",
    "# Table B4, last  column in the table\n",
    "scatter_in_template_rrc = np.array([0.004, 0.004, 0.064, 0.097, \n",
    "                                    0.104, 0.077, 0.127, 0.199, \n",
    "                                    0.271, 0.121, 0.121, 0.064, \n",
    "                                    0.052, 0.068, 0.060, 0.082, \n",
    "                                    0.070, 0.094, 0.171, 0.164, \n",
    "                                    0.072, 0.072]) \n",
    "\n",
    "f_spline_err_rrc = interpolate.interp1d(phase_for_scatter_in_template, scatter_in_template_rrc, kind='linear')"
   ]
  },
  {
   "cell_type": "code",
   "execution_count": 6,
   "id": "e5bddc50",
   "metadata": {
    "ExecuteTime": {
     "end_time": "2023-03-07T09:20:48.160391Z",
     "start_time": "2023-03-07T09:20:48.150403Z"
    }
   },
   "outputs": [
    {
     "name": "stdout",
     "output_type": "stream",
     "text": [
      "Predicted amplitude of the line of sight velocity and its error is: 23.2 ± 3.9 kms-1\n"
     ]
    }
   ],
   "source": [
    "vector = ampV\n",
    "\n",
    "Amp_line_of_sight_vel = scaling_relation_RRc * vector \n",
    "uncertainty_Amp_line_of_sight_vel = np.sqrt(vector * error_on_scaling_relation_RRc * vector \n",
    "                                            + (scaling_relation_RRc[0]**2)*(eampV**2) + 3.8**2)\n",
    "\n",
    "print(r\"Predicted amplitude of the line of sight velocity and its error is: %.1f ± %.1f kms-1\" %(Amp_line_of_sight_vel, \n",
    "                                                                                           uncertainty_Amp_line_of_sight_vel))"
   ]
  },
  {
   "cell_type": "code",
   "execution_count": null,
   "id": "7ebe9ca1",
   "metadata": {},
   "outputs": [],
   "source": []
  },
  {
   "cell_type": "code",
   "execution_count": null,
   "id": "ff8e485d",
   "metadata": {},
   "outputs": [],
   "source": []
  },
  {
   "cell_type": "code",
   "execution_count": 7,
   "id": "47aaa9cd",
   "metadata": {},
   "outputs": [],
   "source": [
    "def systematic_velocity_determ(param, HJD, measured_velocity, uncertainty_measured_velocity, \n",
    "                               P, M0, Alos, eAlos, template_fourier, f_spline_err):\n",
    "    \n",
    "    vsys = param\n",
    "\n",
    "    # Equation 18 in paper    # Equation 16 in paper\n",
    "    phase_star = np.mod(HJD - M0, P) / P\n",
    "    \n",
    "    # Equation 16 in paper\n",
    "    model_velocity = function_fourier_fit(template_fourier, phase_star)*Alos + vsys\n",
    "\n",
    "    # Equation 17 in paper\n",
    "    evel_fin = np.sqrt(uncertainty_measured_velocity**2 \n",
    "                       + (f_spline_err(phase_star)*Alos)**2 \n",
    "                       + (function_fourier_fit(template_fourier,phase_star)*eAlos)**2 )\n",
    "\n",
    "    # Equation 15 in paper\n",
    "    result = ln_normal(measured_velocity - model_velocity, evel_fin) \n",
    "\n",
    "    return np.nansum(result[np.isfinite(result)])\n",
    "\n",
    "\n",
    "# Possibility for including some priors\n",
    "def prior(param):\n",
    "    # pick a prior\n",
    "    return 0.0\n",
    "\n",
    "#    \n",
    "def LOG_probability(param, HJD, measured_velocity, uncertainty_measured_velocity, P, M0, Alos, eAlos, \n",
    "                    template_fourier, f_spline_err):\n",
    "    \n",
    "    lp = prior(param)\n",
    "    \n",
    "    rety = systematic_velocity_determ(param, HJD, measured_velocity, \n",
    "                                      uncertainty_measured_velocity, \n",
    "                                      P, M0, Alos, eAlos, template_fourier, \n",
    "                                      f_spline_err) \n",
    "\n",
    "    return lp + rety\n",
    "\n",
    "\n",
    "def LOG_minus(param, HJD, measured_velocity, uncertainty_measured_velocity, P, M0, Alos, eAlos, template_fourier, f_spline_err):\n",
    "    return -LOG_probability(param, HJD, measured_velocity, uncertainty_measured_velocity, P, M0, Alos, eAlos, template_fourier, f_spline_err)"
   ]
  },
  {
   "cell_type": "code",
   "execution_count": null,
   "id": "d050a31b",
   "metadata": {},
   "outputs": [],
   "source": []
  },
  {
   "cell_type": "markdown",
   "id": "3e789ce6",
   "metadata": {},
   "source": [
    "## Using Scipy library"
   ]
  },
  {
   "cell_type": "code",
   "execution_count": 8,
   "id": "3d4acd9f",
   "metadata": {},
   "outputs": [
    {
     "name": "stdout",
     "output_type": "stream",
     "text": [
      "Determined systemic velocity and its uncertainty is: -31.0 ± 3.2 kms-1\n"
     ]
    }
   ],
   "source": [
    "p0 = np.array([-20.])\n",
    "\n",
    "res = minimize(LOG_minus, x0=p0, args=(time_of_observations, \n",
    "                                      line_of_sight_velocity, \n",
    "                                      uncertainty_line_of_sight_velocity, \n",
    "                                      pulsation_period, \n",
    "                                      time_of_brighness_maxima, \n",
    "                                      Amp_line_of_sight_vel, \n",
    "                                      uncertainty_Amp_line_of_sight_vel, \n",
    "                                      template_fourier_rrc, \n",
    "                                      f_spline_err_rrc), method='BFGS') #SLSQP\n",
    "\n",
    "\n",
    "print(\"Determined systemic velocity and its uncertainty is: %.1f ± %.1f kms-1\" %(res.x[0], np.sqrt(np.diag(res.hess_inv))[0]))"
   ]
  },
  {
   "cell_type": "code",
   "execution_count": null,
   "id": "ce17c700",
   "metadata": {},
   "outputs": [],
   "source": []
  },
  {
   "cell_type": "code",
   "execution_count": 9,
   "id": "ef9535c7",
   "metadata": {},
   "outputs": [
    {
     "data": {
      "image/png": "[encoded data removed]",
      "text/plain": [
       "<Figure size 640x480 with 1 Axes>"
      ]
     },
     "metadata": {},
     "output_type": "display_data"
    }
   ],
   "source": [
    "phase_star = np.mod(time_of_observations - time_of_brighness_maxima, pulsation_period) / pulsation_period\n",
    "\n",
    "phase_star_model = np.linspace(0, 1, 1000)\n",
    "\n",
    "model_velocity_rrab1 = function_fourier_fit(template_fourier_rrc, phase_star_model)*Amp_line_of_sight_vel + res.x[0]\n",
    "\n",
    "plt.plot(phase_star_model, model_velocity_rrab1)\n",
    "plt.errorbar(phase_star, line_of_sight_velocity, yerr=uncertainty_line_of_sight_velocity, fmt=\"o\")\n",
    "plt.xlabel(\"Phase\")\n",
    "plt.ylabel(\"Vlos\")\n",
    "plt.show()"
   ]
  },
  {
   "cell_type": "code",
   "execution_count": null,
   "id": "cc693f56",
   "metadata": {},
   "outputs": [],
   "source": []
  },
  {
   "cell_type": "code",
   "execution_count": null,
   "id": "727e4869",
   "metadata": {},
   "outputs": [],
   "source": []
  },
  {
   "cell_type": "code",
   "execution_count": null,
   "id": "d4ced37b",
   "metadata": {},
   "outputs": [],
   "source": []
  }
 ],
 "metadata": {
  "kernelspec": {
   "display_name": "Python 3 (ipykernel)",
   "language": "python",
   "name": "python3"
  },
  "language_info": {
   "codemirror_mode": {
    "name": "ipython",
    "version": 3
   },
   "file_extension": ".py",
   "mimetype": "text/x-python",
   "name": "python",
   "nbconvert_exporter": "python",
   "pygments_lexer": "ipython3",
   "version": "3.11.3"
  }
 },
 "nbformat": 4,
 "nbformat_minor": 5
}
